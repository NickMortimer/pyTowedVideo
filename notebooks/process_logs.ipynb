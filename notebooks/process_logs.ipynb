{
 "cells": [
  {
   "cell_type": "code",
   "execution_count": 1,
   "metadata": {},
   "outputs": [],
   "source": [
    "import pandas as pd\n",
    "import pynmea2\n",
    "import glob\n",
    "import os\n",
    "import numpy as np"
   ]
  },
  {
   "cell_type": "code",
   "execution_count": 2,
   "metadata": {},
   "outputs": [],
   "source": [
    "files = glob.glob('..\\WA2019_V01\\LOG\\*.log')"
   ]
  },
  {
   "cell_type": "code",
   "execution_count": 70,
   "metadata": {},
   "outputs": [],
   "source": [
    "def process_time(item):\n",
    "    gps =pynmea2.parse(item.gps)\n",
    "    return gps.datetime\n",
    "\n",
    "def process_file(file):\n",
    "    data =pd.read_csv(file,delim_whitespace=True,names=['gps'])\n",
    "    data =data[data.gps.str.startswith('$')]\n",
    "    data['time'] =data[data.gps.str.startswith('$GPRMC')].apply(process_time,axis=1)\n",
    "    data.time =data.time.ffill()\n",
    "    data=data[~data.time.isna()]\n",
    "    return pd.DataFrame(list(data.apply(process_gps,axis=1)))\n",
    "    \n",
    "def process_gps(item):\n",
    "    try:\n",
    "        gps =pynmea2.parse(item.gps)\n",
    "        if gps.sentence_type=='GGA':\n",
    "            return {'rmc_time':item.time,'sentence':gps.sentence_type,'timestamp':gps.timestamp,'latitude':gps.latitude,'longitude':gps.longitude,'usbl_latitude':np.nan,'usbl_longitude':np.nan,'Heading':np.NaN,'depth_meters':np.NaN}\n",
    "        if gps.sentence_type=='GLL':\n",
    "            return {'rmc_time':item.time,'sentence':gps.sentence_type,'timestamp':gps.timestamp,'latitude':np.nan,'longitude':np.nan,'usbl_latitude':gps.latitude,'usbl_longitude':gps.longitude,'Heading':np.NaN,'depth_meters':np.NaN}    \n",
    "        if gps.sentence_type=='RMC':\n",
    "            return {'rmc_time':item.time,'sentence':gps.sentence_type,'timestamp':gps.datetime,'latitude':gps.latitude,'longitude':gps.longitude,'usbl_latitude':np.nan,'usbl_longitude':np.nan,'Heading':np.NaN,'depth_meters':np.NaN}\n",
    "        if gps.sentence_type =='HTD':\n",
    "            return {'rmc_time':item.time,'sentence':gps.sentence_type,'timestamp':item.time,'latitude':np.nan,'longitude':np.nan,'usbl_latitude':np.nan,'usbl_longitude':np.nan,'Heading':gps.heading,'depth_meters':np.NaN}\n",
    "        if gps.sentence_type =='DBT':\n",
    "            return {'rmc_time':item.time,'sentence':gps.sentence_type,'timestamp':item.time,'latitude':np.nan,'longitude':np.nan,'usbl_latitude':np.nan,'usbl_longitude':np.nan,'Heading':np.nan,'depth_meters':gps.depth_meters}\n",
    "        else: \n",
    "            return {'rmc_time':item.time,'sentence':gps.sentence_type,'timestamp':item.time,'latitude':np.nan,'longitude':np.nan,'usbl_latitude':np.nan,'usbl_longitude':np.nan,'Heading':np.nan,'depth_meters':np.NaN}\n",
    "    except pynmea2.ChecksumError:\n",
    "        return {'rmc_time':item.time,'sentence':'','timestamp':item.time,'latitude':np.nan,'longitude':np.nan,'usbl_latitude':np.nan,'usbl_longitude':np.nan,'Heading':np.nan,'depth_meters':np.NaN}"
   ]
  },
  {
   "cell_type": "code",
   "execution_count": 83,
   "metadata": {},
   "outputs": [
    {
     "name": "stdout",
     "output_type": "stream",
     "text": [
      "..\\WA2019_V01\\LOG\\LOG_WA2019_V01_201912170120191222.log\n"
     ]
    }
   ],
   "source": [
    "for file in files[4:]:\n",
    "    print(file)\n",
    "    data =process_file(file)\n",
    "    data.to_csv(os.path.splitext(file)[0] + '.csv')\n",
    "\n"
   ]
  },
  {
   "cell_type": "code",
   "execution_count": 3,
   "metadata": {},
   "outputs": [
    {
     "data": {
      "text/plain": [
       "['..\\\\WA2019_V01\\\\LOG\\\\LOG_WA2019_V01_201912170120191218.log',\n",
       " '..\\\\WA2019_V01\\\\LOG\\\\LOG_WA2019_V01_201912170120191219.log',\n",
       " '..\\\\WA2019_V01\\\\LOG\\\\LOG_WA2019_V01_201912170120191220.log',\n",
       " '..\\\\WA2019_V01\\\\LOG\\\\LOG_WA2019_V01_201912170120191221.log',\n",
       " '..\\\\WA2019_V01\\\\LOG\\\\LOG_WA2019_V01_201912170120191222.log']"
      ]
     },
     "execution_count": 3,
     "metadata": {},
     "output_type": "execute_result"
    }
   ],
   "source": [
    "files"
   ]
  },
  {
   "cell_type": "code",
   "execution_count": 93,
   "metadata": {},
   "outputs": [],
   "source": [
    "import dask.dataframe as dd\n",
    "data = dd.read_csv('..\\WA2019_V01\\LOG\\L*.csv')\n",
    "data['latitude'] = data['latitude'].ffill()\n",
    "data['longitude']= data['longitude'].ffill()\n",
    "data['depth_meters'] = data['depth_meters'].ffill()\n",
    "usbl =data[data.sentence=='GLL'].compute()\n",
    "usbl.rmc_time =pd.to_datetime(usbl.rmc_time)\n",
    "usbl.timestamp =pd.to_datetime(usbl.timestamp)\n"
   ]
  },
  {
   "cell_type": "code",
   "execution_count": 94,
   "metadata": {},
   "outputs": [],
   "source": [
    "usbl.timestamp =usbl.apply(lambda x: pd.Timestamp.combine(x.rmc_time.date(),x.timestamp.time()), axis=1)\n",
    "\n"
   ]
  },
  {
   "cell_type": "code",
   "execution_count": 95,
   "metadata": {},
   "outputs": [
    {
     "data": {
      "text/html": [
       "<div>\n",
       "<style scoped>\n",
       "    .dataframe tbody tr th:only-of-type {\n",
       "        vertical-align: middle;\n",
       "    }\n",
       "\n",
       "    .dataframe tbody tr th {\n",
       "        vertical-align: top;\n",
       "    }\n",
       "\n",
       "    .dataframe thead th {\n",
       "        text-align: right;\n",
       "    }\n",
       "</style>\n",
       "<table border=\"1\" class=\"dataframe\">\n",
       "  <thead>\n",
       "    <tr style=\"text-align: right;\">\n",
       "      <th></th>\n",
       "      <th>Unnamed: 0</th>\n",
       "      <th>Heading</th>\n",
       "      <th>depth_meters</th>\n",
       "      <th>latitude</th>\n",
       "      <th>longitude</th>\n",
       "      <th>rmc_time</th>\n",
       "      <th>sentence</th>\n",
       "      <th>timestamp</th>\n",
       "      <th>usbl_latitude</th>\n",
       "      <th>usbl_longitude</th>\n",
       "    </tr>\n",
       "  </thead>\n",
       "  <tbody>\n",
       "    <tr>\n",
       "      <th>20</th>\n",
       "      <td>20</td>\n",
       "      <td>NaN</td>\n",
       "      <td>75.2</td>\n",
       "      <td>-19.225628</td>\n",
       "      <td>118.826020</td>\n",
       "      <td>2019-12-18 00:00:00</td>\n",
       "      <td>GLL</td>\n",
       "      <td>2019-12-18 00:00:02</td>\n",
       "      <td>-19.225637</td>\n",
       "      <td>118.826010</td>\n",
       "    </tr>\n",
       "    <tr>\n",
       "      <th>49</th>\n",
       "      <td>49</td>\n",
       "      <td>NaN</td>\n",
       "      <td>75.2</td>\n",
       "      <td>-19.225637</td>\n",
       "      <td>118.826010</td>\n",
       "      <td>2019-12-18 00:00:02</td>\n",
       "      <td>GLL</td>\n",
       "      <td>2019-12-18 00:00:04</td>\n",
       "      <td>-19.225645</td>\n",
       "      <td>118.825997</td>\n",
       "    </tr>\n",
       "    <tr>\n",
       "      <th>78</th>\n",
       "      <td>78</td>\n",
       "      <td>NaN</td>\n",
       "      <td>75.2</td>\n",
       "      <td>-19.225645</td>\n",
       "      <td>118.825997</td>\n",
       "      <td>2019-12-18 00:00:04</td>\n",
       "      <td>GLL</td>\n",
       "      <td>2019-12-18 00:00:06</td>\n",
       "      <td>-19.225653</td>\n",
       "      <td>118.825990</td>\n",
       "    </tr>\n",
       "    <tr>\n",
       "      <th>107</th>\n",
       "      <td>107</td>\n",
       "      <td>NaN</td>\n",
       "      <td>75.2</td>\n",
       "      <td>-19.225653</td>\n",
       "      <td>118.825990</td>\n",
       "      <td>2019-12-18 00:00:06</td>\n",
       "      <td>GLL</td>\n",
       "      <td>2019-12-18 00:00:08</td>\n",
       "      <td>-19.225662</td>\n",
       "      <td>118.825982</td>\n",
       "    </tr>\n",
       "    <tr>\n",
       "      <th>136</th>\n",
       "      <td>136</td>\n",
       "      <td>NaN</td>\n",
       "      <td>75.0</td>\n",
       "      <td>-19.225662</td>\n",
       "      <td>118.825982</td>\n",
       "      <td>2019-12-18 00:00:08</td>\n",
       "      <td>GLL</td>\n",
       "      <td>2019-12-18 00:00:10</td>\n",
       "      <td>-19.225668</td>\n",
       "      <td>118.825980</td>\n",
       "    </tr>\n",
       "  </tbody>\n",
       "</table>\n",
       "</div>"
      ],
      "text/plain": [
       "     Unnamed: 0  Heading  depth_meters   latitude   longitude  \\\n",
       "20           20      NaN          75.2 -19.225628  118.826020   \n",
       "49           49      NaN          75.2 -19.225637  118.826010   \n",
       "78           78      NaN          75.2 -19.225645  118.825997   \n",
       "107         107      NaN          75.2 -19.225653  118.825990   \n",
       "136         136      NaN          75.0 -19.225662  118.825982   \n",
       "\n",
       "               rmc_time sentence           timestamp  usbl_latitude  \\\n",
       "20  2019-12-18 00:00:00      GLL 2019-12-18 00:00:02     -19.225637   \n",
       "49  2019-12-18 00:00:02      GLL 2019-12-18 00:00:04     -19.225645   \n",
       "78  2019-12-18 00:00:04      GLL 2019-12-18 00:00:06     -19.225653   \n",
       "107 2019-12-18 00:00:06      GLL 2019-12-18 00:00:08     -19.225662   \n",
       "136 2019-12-18 00:00:08      GLL 2019-12-18 00:00:10     -19.225668   \n",
       "\n",
       "     usbl_longitude  \n",
       "20       118.826010  \n",
       "49       118.825997  \n",
       "78       118.825990  \n",
       "107      118.825982  \n",
       "136      118.825980  "
      ]
     },
     "execution_count": 95,
     "metadata": {},
     "output_type": "execute_result"
    }
   ],
   "source": [
    "usbl.head()"
   ]
  },
  {
   "cell_type": "code",
   "execution_count": 100,
   "metadata": {},
   "outputs": [
    {
     "data": {
      "text/html": [
       "<div>\n",
       "<style scoped>\n",
       "    .dataframe tbody tr th:only-of-type {\n",
       "        vertical-align: middle;\n",
       "    }\n",
       "\n",
       "    .dataframe tbody tr th {\n",
       "        vertical-align: top;\n",
       "    }\n",
       "\n",
       "    .dataframe thead th {\n",
       "        text-align: right;\n",
       "    }\n",
       "</style>\n",
       "<table border=\"1\" class=\"dataframe\">\n",
       "  <thead>\n",
       "    <tr style=\"text-align: right;\">\n",
       "      <th></th>\n",
       "      <th>depth_meters</th>\n",
       "      <th>latitude</th>\n",
       "      <th>longitude</th>\n",
       "      <th>usbl_latitude</th>\n",
       "      <th>usbl_longitude</th>\n",
       "    </tr>\n",
       "    <tr>\n",
       "      <th>time</th>\n",
       "      <th></th>\n",
       "      <th></th>\n",
       "      <th></th>\n",
       "      <th></th>\n",
       "      <th></th>\n",
       "    </tr>\n",
       "  </thead>\n",
       "  <tbody>\n",
       "    <tr>\n",
       "      <th>2019-12-18 00:00:00</th>\n",
       "      <td>75.2</td>\n",
       "      <td>-19.225628</td>\n",
       "      <td>118.826020</td>\n",
       "      <td>NaN</td>\n",
       "      <td>NaN</td>\n",
       "    </tr>\n",
       "    <tr>\n",
       "      <th>2019-12-18 00:00:02</th>\n",
       "      <td>75.2</td>\n",
       "      <td>-19.225637</td>\n",
       "      <td>118.826010</td>\n",
       "      <td>-19.225637</td>\n",
       "      <td>118.826010</td>\n",
       "    </tr>\n",
       "    <tr>\n",
       "      <th>2019-12-18 00:00:04</th>\n",
       "      <td>75.2</td>\n",
       "      <td>-19.225645</td>\n",
       "      <td>118.825997</td>\n",
       "      <td>-19.225645</td>\n",
       "      <td>118.825997</td>\n",
       "    </tr>\n",
       "    <tr>\n",
       "      <th>2019-12-18 00:00:06</th>\n",
       "      <td>75.2</td>\n",
       "      <td>-19.225653</td>\n",
       "      <td>118.825990</td>\n",
       "      <td>-19.225653</td>\n",
       "      <td>118.825990</td>\n",
       "    </tr>\n",
       "    <tr>\n",
       "      <th>2019-12-18 00:00:08</th>\n",
       "      <td>75.0</td>\n",
       "      <td>-19.225662</td>\n",
       "      <td>118.825982</td>\n",
       "      <td>-19.225662</td>\n",
       "      <td>118.825982</td>\n",
       "    </tr>\n",
       "  </tbody>\n",
       "</table>\n",
       "</div>"
      ],
      "text/plain": [
       "                     depth_meters   latitude   longitude  usbl_latitude  \\\n",
       "time                                                                      \n",
       "2019-12-18 00:00:00          75.2 -19.225628  118.826020            NaN   \n",
       "2019-12-18 00:00:02          75.2 -19.225637  118.826010     -19.225637   \n",
       "2019-12-18 00:00:04          75.2 -19.225645  118.825997     -19.225645   \n",
       "2019-12-18 00:00:06          75.2 -19.225653  118.825990     -19.225653   \n",
       "2019-12-18 00:00:08          75.0 -19.225662  118.825982     -19.225662   \n",
       "\n",
       "                     usbl_longitude  \n",
       "time                                 \n",
       "2019-12-18 00:00:00             NaN  \n",
       "2019-12-18 00:00:02      118.826010  \n",
       "2019-12-18 00:00:04      118.825997  \n",
       "2019-12-18 00:00:06      118.825990  \n",
       "2019-12-18 00:00:08      118.825982  "
      ]
     },
     "execution_count": 100,
     "metadata": {},
     "output_type": "execute_result"
    }
   ],
   "source": [
    "ship = usbl[['rmc_time','depth_meters','latitude','longitude']].copy()\n",
    "ship.set_index('rmc_time',inplace=True)\n",
    "usbl1 =   usbl[['timestamp','usbl_latitude','usbl_longitude']].copy()\n",
    "usbl1.set_index('timestamp',inplace=True)\n",
    "combined =ship.join(usbl1,how='outer')\n",
    "combined.index.name ='time'\n",
    "combined.head()"
   ]
  },
  {
   "cell_type": "code",
   "execution_count": 103,
   "metadata": {},
   "outputs": [],
   "source": [
    "combined.to_csv('..\\WA2019_V01\\LOG\\output.csv')"
   ]
  },
  {
   "cell_type": "code",
   "execution_count": null,
   "metadata": {},
   "outputs": [],
   "source": []
  }
 ],
 "metadata": {
  "kernelspec": {
   "display_name": "Python 3",
   "language": "python",
   "name": "python3"
  },
  "language_info": {
   "codemirror_mode": {
    "name": "ipython",
    "version": 3
   },
   "file_extension": ".py",
   "mimetype": "text/x-python",
   "name": "python",
   "nbconvert_exporter": "python",
   "pygments_lexer": "ipython3",
   "version": "3.7.1"
  }
 },
 "nbformat": 4,
 "nbformat_minor": 2
}
